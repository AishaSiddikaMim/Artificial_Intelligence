{
  "nbformat": 4,
  "nbformat_minor": 0,
  "metadata": {
    "colab": {
      "provenance": [],
      "collapsed_sections": [
        "jVt420YpLVvo"
      ]
    },
    "kernelspec": {
      "name": "python3",
      "display_name": "Python 3"
    },
    "language_info": {
      "name": "python"
    }
  },
  "cells": [
    {
      "cell_type": "markdown",
      "source": [
        "# Lab 2: Basics of Python\n",
        "\n",
        "Solve the questions in this jupyter notebook. You must:\n",
        "- make your code tidy with appropriate comments.\n",
        "- Use the code segment below the questions.\n"
      ],
      "metadata": {
        "id": "jVt420YpLVvo"
      }
    },
    {
      "cell_type": "markdown",
      "source": [
        "# 1. Write a Python program that accepts a sequence of comma-separated numbers from the user and generates a list and a tuple of those numbers.\n",
        "\n",
        "Sample data : 3, 5, 7, 23\n",
        "\n",
        "Output :\n",
        "\n",
        "List : ['3', ' 5', ' 7', ' 23']\n",
        "\n",
        "Tuple : ('3', ' 5', ' 7', ' 23')"
      ],
      "metadata": {
        "id": "h3kCiRDiKtfr"
      }
    },
    {
      "cell_type": "code",
      "source": [
        "input = input()\n",
        "list = input.split(\",\")\n",
        "tuple = tuple(list)\n",
        "print('List:', list)\n",
        "print('Tuple:', tuple)"
      ],
      "metadata": {
        "id": "mVginU7Z4soK",
        "colab": {
          "base_uri": "https://localhost:8080/"
        },
        "outputId": "b5518d62-494e-4255-a523-5e5e45fb17e3"
      },
      "execution_count": null,
      "outputs": [
        {
          "output_type": "stream",
          "name": "stdout",
          "text": [
            "3, 5, 7, 23\n",
            "List: ['3', ' 5', ' 7', ' 23']\n",
            "Tuple: ('3', ' 5', ' 7', ' 23')\n"
          ]
        }
      ]
    },
    {
      "cell_type": "markdown",
      "source": [
        "# 2. Write a Python program that accepts a filename from the user and prints the extension of the file.\n",
        "\n",
        "Sample filename : abc.java\n",
        "\n",
        "Output : java\n",
        "\n"
      ],
      "metadata": {
        "id": "xkPxeljPM6PQ"
      }
    },
    {
      "cell_type": "code",
      "source": [
        "filename = input(\"Sample filename: \")\n",
        "var = filename.split(\".\")\n",
        "print(\"Output: \" + var[-1])"
      ],
      "metadata": {
        "id": "h6L9mHp84tj5",
        "colab": {
          "base_uri": "https://localhost:8080/"
        },
        "outputId": "ee3ec5d6-e5ff-414a-9a3e-8078221c85a9"
      },
      "execution_count": null,
      "outputs": [
        {
          "output_type": "stream",
          "name": "stdout",
          "text": [
            "Sample filename: abc.java\n",
            "Output: java\n"
          ]
        }
      ]
    },
    {
      "cell_type": "markdown",
      "source": [
        "# 3. Write a Python program that concatenates all elements in a list into a string and returns it.\n",
        "\n"
      ],
      "metadata": {
        "id": "OZDC6jCYNCJj"
      }
    },
    {
      "cell_type": "code",
      "source": [
        "myList = ['Hi', '!', 'I', 'am', 'Aisha', '040']\n",
        "result = ' '.join(myList)\n",
        "\n",
        "print(result)"
      ],
      "metadata": {
        "id": "G0kmtdqoNbio",
        "colab": {
          "base_uri": "https://localhost:8080/"
        },
        "outputId": "0caf3577-ab2d-4eff-8cff-c01fae7baef2"
      },
      "execution_count": 4,
      "outputs": [
        {
          "output_type": "stream",
          "name": "stdout",
          "text": [
            "Hi ! I am Aisha 040\n"
          ]
        }
      ]
    },
    {
      "cell_type": "markdown",
      "source": [
        "# 4.Write a Python program to calculate the body mass index."
      ],
      "metadata": {
        "id": "1P8HMSmJNhAB"
      }
    },
    {
      "cell_type": "code",
      "source": [
        "print(\"Input Weight: \")\n",
        "Weight = float(input())\n",
        "\n",
        "print(\"Input Height: \")\n",
        "Height = float(input())\n",
        "\n",
        "BMI = (Weight) / ((Height) **2)\n",
        "print(\"BMI: \", BMI)"
      ],
      "metadata": {
        "id": "1RM57x4eNlFs",
        "colab": {
          "base_uri": "https://localhost:8080/"
        },
        "outputId": "8b1c0d71-0844-454f-9952-969ed4f77764"
      },
      "execution_count": null,
      "outputs": [
        {
          "output_type": "stream",
          "name": "stdout",
          "text": [
            "Input Weight: \n",
            "64.4\n",
            "Input Height: \n",
            "1.9\n",
            "BMI:  17.839335180055404\n"
          ]
        }
      ]
    },
    {
      "cell_type": "markdown",
      "source": [
        "# 5.Write a Python program to convert pressure in kilopascals to pounds per square inch, a millimeter of mercury (mmHg) and atmosphere pressure.\n",
        "\n",
        "\n",
        "\n"
      ],
      "metadata": {
        "id": "lbI7vio0Nsg-"
      }
    },
    {
      "cell_type": "code",
      "source": [
        "print(\"Input kPa value: \")\n",
        "kPa_value = float(input())\n",
        "\n",
        "psi_value = kPa_value / 6.89476\n",
        "print(\"kilopascals to pounds per square inch: \", psi_value)\n",
        "\n",
        "mmHg_value = kPa_value * 7.50062\n",
        "print(\"kilopascals to a millimeter of mercury (mmHg): \", mmHg_value)\n",
        "\n",
        "atm_value = 101.325 / kPa_value\n",
        "print(\"kilopascals to atmosphere pressure : \", atm_value)"
      ],
      "metadata": {
        "id": "ZtI16tjCNu1y",
        "colab": {
          "base_uri": "https://localhost:8080/"
        },
        "outputId": "708ee2da-63e1-4fc8-acb7-bebef079ad20"
      },
      "execution_count": null,
      "outputs": [
        {
          "output_type": "stream",
          "name": "stdout",
          "text": [
            "Input kPa value: \n",
            "1.6\n",
            "kilopascals to pounds per square inch:  0.2320602892631506\n",
            "kilopascals to a millimeter of mercury (mmHg):  12.000992\n",
            "kilopascals to atmosphere pressure :  63.328125\n"
          ]
        }
      ]
    },
    {
      "cell_type": "markdown",
      "source": [
        "# 6. Write a Python program to calculate sum of digits of a number."
      ],
      "metadata": {
        "id": "g1-QgspnN77g"
      }
    },
    {
      "cell_type": "code",
      "source": [
        "def Sum(n):\n",
        "\n",
        "    sum = 0\n",
        "    while (n > 0):\n",
        "\n",
        "        r = (n % 10)\n",
        "        sum = r + sum\n",
        "        n = n//10\n",
        "\n",
        "    return sum\n",
        "\n",
        "n = int(input())\n",
        "print(\"Sum: \", Sum(n))\n"
      ],
      "metadata": {
        "id": "Q8ymeCypN-0d",
        "colab": {
          "base_uri": "https://localhost:8080/"
        },
        "outputId": "845daf86-36d8-4ab9-8473-0c1b1c205ac3"
      },
      "execution_count": null,
      "outputs": [
        {
          "output_type": "stream",
          "name": "stdout",
          "text": [
            "29\n",
            "Sum:  11\n"
          ]
        }
      ]
    },
    {
      "cell_type": "markdown",
      "source": [
        "# 7. Write a Python program that generates a list of all possible permutations from a given collection of distinct numbers."
      ],
      "metadata": {
        "id": "BgRKgShEOLHl"
      }
    },
    {
      "cell_type": "code",
      "source": [
        "def permutation(myList):\n",
        "\n",
        "  if len(myList) == 0:\n",
        "    return []\n",
        "\n",
        "  if len(myList) == 1:\n",
        "    return [myList]\n",
        "\n",
        "  if len(myList) > 1:\n",
        "\n",
        "    var = []\n",
        "\n",
        "    for i  in range(len(myList)):\n",
        "      var1 = myList[i]\n",
        "\n",
        "      rem = myList[:i] + myList[i + 1 :]\n",
        "\n",
        "      for j in permutation(rem):\n",
        "        var.append([var1] + j)\n",
        "\n",
        "    return var\n",
        "\n",
        "input = list('789')\n",
        "\n",
        "for j in permutation(input):\n",
        "  print(j)"
      ],
      "metadata": {
        "id": "eOqMwnOfONGA",
        "colab": {
          "base_uri": "https://localhost:8080/"
        },
        "outputId": "e51d326c-fe16-4848-9ede-4ec38b9333c8"
      },
      "execution_count": 11,
      "outputs": [
        {
          "output_type": "stream",
          "name": "stdout",
          "text": [
            "['7', '8', '9']\n",
            "['7', '9', '8']\n",
            "['8', '7', '9']\n",
            "['8', '9', '7']\n",
            "['9', '7', '8']\n",
            "['9', '8', '7']\n"
          ]
        }
      ]
    },
    {
      "cell_type": "markdown",
      "source": [
        "# 8. Write a Python program that accepts a positive number and subtracts from it the sum of its digits, and so on. Continue this operation until the number is positive."
      ],
      "metadata": {
        "id": "rbCQwcK0ORTa"
      }
    },
    {
      "cell_type": "code",
      "source": [
        "def function1(num):\n",
        "  stringVersion = str(num)\n",
        "\n",
        "  while(num > 0):\n",
        "\n",
        "    num = num - sum([int(i) for i in list(stringVersion)])\n",
        "\n",
        "    stringVersion = list(str(num))\n",
        "\n",
        "  return num\n",
        "\n",
        "print(\"Enter the Number\")\n",
        "num = int(input())\n",
        "print(\"Output:\", function1(num))"
      ],
      "metadata": {
        "id": "-x-qAPwnOT3K",
        "colab": {
          "base_uri": "https://localhost:8080/"
        },
        "outputId": "9b85b055-8aec-4041-bb21-5303620ed6f4"
      },
      "execution_count": 2,
      "outputs": [
        {
          "output_type": "stream",
          "name": "stdout",
          "text": [
            "Enter the Number\n",
            "9\n",
            "Output: 0\n"
          ]
        }
      ]
    },
    {
      "cell_type": "markdown",
      "source": [
        "# 9. Write a Python program to reverse the digits of a given number and add them to the original. Repeat this procedure if the sum is not a palindrome.\n",
        "\n",
        "Note: A palindrome is a word, number, or other sequence of characters which reads the same backward as forward, such as madam or racecar."
      ],
      "metadata": {
        "id": "2vIzxCHgOabN"
      }
    },
    {
      "cell_type": "code",
      "source": [
        "def function(number):\n",
        "  sum = 0\n",
        "\n",
        "  while True:\n",
        "    stringVersion = str(number)\n",
        "\n",
        "    if stringVersion == stringVersion[::-1]:\n",
        "      break\n",
        "\n",
        "    else:\n",
        "      var = int(stringVersion[::-1])\n",
        "      number = number + var\n",
        "      sum = sum + 1\n",
        "\n",
        "  return number\n",
        "\n",
        "print(\"Enter the Number\")\n",
        "number = int(input())\n",
        "print(\"Output:\", function(number))\n"
      ],
      "metadata": {
        "id": "qAaNW6z4OcwC",
        "colab": {
          "base_uri": "https://localhost:8080/"
        },
        "outputId": "f8793e3c-d5a3-40c2-ba1d-c799dd98d474"
      },
      "execution_count": 1,
      "outputs": [
        {
          "output_type": "stream",
          "name": "stdout",
          "text": [
            "Enter the Number\n",
            "1234\n",
            "Output: 5555\n"
          ]
        }
      ]
    },
    {
      "cell_type": "markdown",
      "source": [
        "# 10. Write a Python program to replace a string \"Python\" with \"Java\" and \"Java\" with \"Python\" in a given string.\n",
        "Input:\n",
        "English letters (including single byte alphanumeric characters, blanks, symbols) are given on one line. The length of the input character string is 1000 or less.\n",
        "\n",
        "Input a text with two words 'Python' and 'Java'\n",
        "\n",
        "Python is popular than Java\n",
        "\n",
        "Java is popular than Python"
      ],
      "metadata": {
        "id": "Z0SdoOwoOlzP"
      }
    },
    {
      "cell_type": "code",
      "source": [
        "print(\"Input a text with two words 'Python' and 'Java' \")\n",
        "text = input()\n",
        "newText = text.split()\n",
        "\n",
        "if len(newText) <= 1000:\n",
        "\n",
        "  for i in range (len(newText)):\n",
        "\n",
        "    if \"Python\" in newText[i]:\n",
        "\n",
        "      n = newText[i].index(\"Python\");\n",
        "      newText[i] = newText[i][:n] + \"Java\" + newText[i][n + 6:]\n",
        "\n",
        "    elif \"Java\" in newText[i]:\n",
        "\n",
        "      n = newText[i].index(\"Java\");\n",
        "      newText[i] = newText[i][:n] + \"Python\" + newText[i][n + 4:]\n",
        "\n",
        "print(*newText)"
      ],
      "metadata": {
        "id": "D5we1z4CPDTe",
        "colab": {
          "base_uri": "https://localhost:8080/"
        },
        "outputId": "1f64f21b-5be6-476e-9706-65cde9ce041c"
      },
      "execution_count": 10,
      "outputs": [
        {
          "output_type": "stream",
          "name": "stdout",
          "text": [
            "Input a text with two words 'Python' and 'Java' \n",
            "Java is popular than Python\n",
            "Python is popular than Java\n"
          ]
        }
      ]
    }
  ]
}