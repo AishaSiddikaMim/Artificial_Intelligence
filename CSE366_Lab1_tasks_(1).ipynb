{
  "nbformat": 4,
  "nbformat_minor": 0,
  "metadata": {
    "colab": {
      "provenance": [],
      "collapsed_sections": [
        "jVt420YpLVvo"
      ]
    },
    "kernelspec": {
      "name": "python3",
      "display_name": "Python 3"
    },
    "language_info": {
      "name": "python"
    }
  },
  "cells": [
    {
      "cell_type": "markdown",
      "source": [
        "# Lab 1: Basics of Python\n",
        "\n",
        "Solve the questions in this jupyter notebook. You must:\n",
        "- make your code tidy with appropriate comments.\n",
        "- Use the code segment below the questions.\n"
      ],
      "metadata": {
        "id": "jVt420YpLVvo"
      }
    },
    {
      "cell_type": "markdown",
      "source": [
        "# 1. Write a Python program that accepts the user's first and last name and prints them in reverse order with a space between them."
      ],
      "metadata": {
        "id": "h3kCiRDiKtfr"
      }
    },
    {
      "cell_type": "code",
      "execution_count": 4,
      "metadata": {
        "id": "h6B52Fr2Kngi",
        "colab": {
          "base_uri": "https://localhost:8080/"
        },
        "outputId": "1313a408-875d-4ed8-e905-f17bd1d3b07b"
      },
      "outputs": [
        {
          "output_type": "stream",
          "name": "stdout",
          "text": [
            "akiddiS ahsiA\n"
          ]
        }
      ],
      "source": [
        "user = \"Aisha Siddika\"\n",
        "print(user[::-1])"
      ]
    },
    {
      "cell_type": "markdown",
      "source": [
        "# 2. Write a Python program to display the first and last colors from the following list.\n",
        "color_list = [\"Red\",\"Green\",\"White\" ,\"Black\"]\n",
        "\n"
      ],
      "metadata": {
        "id": "xkPxeljPM6PQ"
      }
    },
    {
      "cell_type": "code",
      "source": [
        "color_list = [\"Red\", \"Green\", \"White\", \"Black\"]\n",
        "print(color_list[:4:3])"
      ],
      "metadata": {
        "id": "Hj_PKxSgNBH5",
        "colab": {
          "base_uri": "https://localhost:8080/"
        },
        "outputId": "784c6f4b-a409-427b-d19b-0d62bc3aa3f8"
      },
      "execution_count": 5,
      "outputs": [
        {
          "output_type": "stream",
          "name": "stdout",
          "text": [
            "['Red', 'Black']\n"
          ]
        }
      ]
    },
    {
      "cell_type": "markdown",
      "source": [
        "# 3. Write a Python program that accepts an integer (n) and computes the value of n+nn+nnn.\n",
        "Sample value of n is 5\n",
        "\n",
        "\n",
        "Expected Result : 615"
      ],
      "metadata": {
        "id": "OZDC6jCYNCJj"
      }
    },
    {
      "cell_type": "code",
      "source": [
        "print(\"Enter the integer\")\n",
        "x = int(input())\n",
        "y = (x + (x * 10))\n",
        "z = (y + (x * 100))\n",
        "res = (x + y + z)\n",
        "print(res)"
      ],
      "metadata": {
        "id": "G0kmtdqoNbio",
        "colab": {
          "base_uri": "https://localhost:8080/"
        },
        "outputId": "3295d741-afff-471d-f5cb-9ded1eb31c26"
      },
      "execution_count": 3,
      "outputs": [
        {
          "output_type": "stream",
          "name": "stdout",
          "text": [
            "Enter the integer\n",
            "5\n",
            "615\n"
          ]
        }
      ]
    },
    {
      "cell_type": "markdown",
      "source": [
        "# 4. Write a Python program to calculate the difference between a given number and 17. If the number is greater than 17, return twice the absolute difference"
      ],
      "metadata": {
        "id": "1P8HMSmJNhAB"
      }
    },
    {
      "cell_type": "code",
      "source": [
        "x = int(input())\n",
        "if x > 17:\n",
        "  diff = x -  17\n",
        "  print(diff)\n",
        "print(diff)\n"
      ],
      "metadata": {
        "id": "1RM57x4eNlFs",
        "colab": {
          "base_uri": "https://localhost:8080/"
        },
        "outputId": "54492088-6e5a-4085-bcf3-87424be31c3f"
      },
      "execution_count": 6,
      "outputs": [
        {
          "output_type": "stream",
          "name": "stdout",
          "text": [
            "19\n",
            "2\n",
            "2\n"
          ]
        }
      ]
    },
    {
      "cell_type": "markdown",
      "source": [
        "# 5. Write a Python program to calculate the sum of three given numbers. If the values are equal, return three times their sum."
      ],
      "metadata": {
        "id": "lbI7vio0Nsg-"
      }
    },
    {
      "cell_type": "code",
      "source": [
        "x = int(input())\n",
        "y = int(input())\n",
        "z = int(input())\n",
        "\n",
        "sum = x + y + z\n",
        "\n",
        "if x == y == z :\n",
        "  print(3 * sum)"
      ],
      "metadata": {
        "id": "ZtI16tjCNu1y",
        "colab": {
          "base_uri": "https://localhost:8080/"
        },
        "outputId": "3ba0c804-b019-4cec-92e9-2810751dba47"
      },
      "execution_count": 7,
      "outputs": [
        {
          "output_type": "stream",
          "name": "stdout",
          "text": [
            "3\n",
            "3\n",
            "3\n",
            "27\n"
          ]
        }
      ]
    },
    {
      "cell_type": "markdown",
      "source": [
        "# 6. Write a Python program that determines whether a given number (accepted from the user) is even or odd, and prints an appropriate message to the user."
      ],
      "metadata": {
        "id": "g1-QgspnN77g"
      }
    },
    {
      "cell_type": "code",
      "source": [
        "x = int(input())\n",
        "\n",
        "if x % 2 == 0:\n",
        "  print(\"The given number is even\")\n",
        "\n",
        "else:\n",
        "  print(\"The given number is odd\")"
      ],
      "metadata": {
        "id": "Q8ymeCypN-0d",
        "colab": {
          "base_uri": "https://localhost:8080/"
        },
        "outputId": "795af7e0-209c-455a-e637-84bea05aba72"
      },
      "execution_count": 8,
      "outputs": [
        {
          "output_type": "stream",
          "name": "stdout",
          "text": [
            "23\n",
            "The given number is odd\n"
          ]
        }
      ]
    },
    {
      "cell_type": "markdown",
      "source": [
        "# 7. Write a Python program to test whether a passed letter is a vowel or not."
      ],
      "metadata": {
        "id": "BgRKgShEOLHl"
      }
    },
    {
      "cell_type": "code",
      "source": [
        "letter = input()\n",
        "if(letter == 'a' or letter == 'e' or letter == 'i' or letter == 'o' or letter == 'u'):\n",
        "  print(\"vowel\")\n",
        "\n",
        "else:\n",
        "  print(\"consonent\")"
      ],
      "metadata": {
        "id": "eOqMwnOfONGA",
        "colab": {
          "base_uri": "https://localhost:8080/"
        },
        "outputId": "778c1a38-cb17-4a9e-8a38-7707db7d65be"
      },
      "execution_count": 9,
      "outputs": [
        {
          "output_type": "stream",
          "name": "stdout",
          "text": [
            "i\n",
            "vowel\n"
          ]
        }
      ]
    },
    {
      "cell_type": "markdown",
      "source": [
        "# 8. Write a Python program that computes the greatest common divisor (GCD) of two positive integers.\n",
        "\n",
        "Sample Output:\n",
        "\n",
        "GCD of 12 & 17 = 1\n",
        "\n",
        "GCD of 4 & 6 = 2\n",
        "\n",
        "GCD of 336 & 360 = 24"
      ],
      "metadata": {
        "id": "rbCQwcK0ORTa"
      }
    },
    {
      "cell_type": "code",
      "source": [
        "def GCD(x,y):\n",
        "\n",
        "  if x > y:\n",
        "    temp = y\n",
        "\n",
        "  else:\n",
        "    temp = x\n",
        "\n",
        "  for i in range (1, temp + 1):\n",
        "    if((x % i) == 0) and ((y % i) == 0):\n",
        "      gcd = i\n",
        "  return gcd\n",
        "\n",
        "x = int(input())\n",
        "y = int(input())\n",
        "res = GCD(x,y)\n",
        "print(\"GCD of\", x, \"&\", y, \"=\", res)\n"
      ],
      "metadata": {
        "id": "-x-qAPwnOT3K",
        "colab": {
          "base_uri": "https://localhost:8080/"
        },
        "outputId": "b4b8153e-4e96-4ff3-ee53-cd4fcfb5d109"
      },
      "execution_count": 12,
      "outputs": [
        {
          "output_type": "stream",
          "name": "stdout",
          "text": [
            "336\n",
            "360\n",
            "GCD of 336 & 360 = 24\n"
          ]
        }
      ]
    },
    {
      "cell_type": "markdown",
      "source": [
        "# 9. Write a Python program that removes and prints every third number from a list of numbers until the list is empty."
      ],
      "metadata": {
        "id": "2vIzxCHgOabN"
      }
    },
    {
      "cell_type": "code",
      "source": [
        "def rem_num(my_list):\n",
        "  position = 2\n",
        "  index = 0\n",
        "  length = (len(my_list))\n",
        "\n",
        "  while length > 0:\n",
        "    index = (position + index) % length\n",
        "    print(my_list.pop(index))\n",
        "    length = length - 1\n",
        "\n",
        "my_list = [1, 2, 3, 4, 5, 6]\n",
        "rem_num(my_list)"
      ],
      "metadata": {
        "id": "qAaNW6z4OcwC",
        "colab": {
          "base_uri": "https://localhost:8080/"
        },
        "outputId": "c17105d6-93f7-4743-85ee-cd5fc581e2d6"
      },
      "execution_count": 15,
      "outputs": [
        {
          "output_type": "stream",
          "name": "stdout",
          "text": [
            "3\n",
            "6\n",
            "4\n",
            "2\n",
            "5\n",
            "1\n"
          ]
        }
      ]
    },
    {
      "cell_type": "markdown",
      "source": [
        "# 10. Write a Python program to calculate the distance between the points (x1, y1) and (x2, y2).\n",
        "\n",
        "Sample Input:\n",
        "\n",
        "p1 = [4, 0]\n",
        "\n",
        "p2 = [6, 6]\n",
        "\n",
        "\n",
        "Sample Output:\n",
        "\n",
        "6.324555320336759"
      ],
      "metadata": {
        "id": "Z0SdoOwoOlzP"
      }
    },
    {
      "cell_type": "code",
      "source": [
        "p1 = [4, 0]\n",
        "p2 = [6, 6]\n",
        "\n",
        "x1 = p1[0]\n",
        "x2 = p2[0]\n",
        "y1 = p1[1]\n",
        "y2 = p2[1]\n",
        "\n",
        "dis = ((((x2 - x1) **2) + ((y2 - y1) **2)) **0.5)\n",
        "print(dis)"
      ],
      "metadata": {
        "id": "D5we1z4CPDTe",
        "colab": {
          "base_uri": "https://localhost:8080/"
        },
        "outputId": "b6c0bb31-0274-4fd4-a3ae-fab8a76d8d39"
      },
      "execution_count": 14,
      "outputs": [
        {
          "output_type": "stream",
          "name": "stdout",
          "text": [
            "6.324555320336759\n"
          ]
        }
      ]
    }
  ]
}